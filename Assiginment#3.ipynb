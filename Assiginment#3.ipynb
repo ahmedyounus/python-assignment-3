{
 "cells": [
  {
   "cell_type": "code",
   "execution_count": 5,
   "id": "7fb0a4dc",
   "metadata": {},
   "outputs": [
    {
     "name": "stdout",
     "output_type": "stream",
     "text": [
      "Twinkle, twinkle, little star,\n",
      "        How I wonder what you are!\n",
      "                Up above the world so high,\n",
      "                Like a diamond in the sky.\n",
      "Twinkle, twinkle, little star,\n",
      "        How I wonder what you are\n"
     ]
    }
   ],
   "source": [
    "'''1. Write a Python program to print the following string in a specific format (see the\n",
    "output).\n",
    "Twinkle, twinkle, little star,\n",
    "\n",
    "How I wonder what you are!\n",
    "\n",
    "Up above the world so high,\n",
    "Like a diamond in the sky.\n",
    "\n",
    "Twinkle, twinkle, little star,\n",
    "\n",
    "How I wonder what you are'''\n",
    "\n",
    "\n",
    "print(\"Twinkle, twinkle, little star,\\n        How I wonder what you are!\\n                Up above the world so high,\\n                Like a diamond in the sky.\\nTwinkle, twinkle, little star,\\n        How I wonder what you are\");\n"
   ]
  },
  {
   "cell_type": "code",
   "execution_count": 8,
   "id": "78b91bcc",
   "metadata": {},
   "outputs": [
    {
     "name": "stdout",
     "output_type": "stream",
     "text": [
      "Python version\n",
      "3.8.8 (default, Apr 13 2021, 15:08:03) [MSC v.1916 64 bit (AMD64)]\n"
     ]
    }
   ],
   "source": [
    "# 2. Write a Python program to get the Python version you are using\n",
    "\n",
    "import sys\n",
    "print(\"Python version\")\n",
    "print (sys.version)"
   ]
  },
  {
   "cell_type": "code",
   "execution_count": 9,
   "id": "08fe3b4f",
   "metadata": {},
   "outputs": [
    {
     "name": "stdout",
     "output_type": "stream",
     "text": [
      "Current date and time : \n",
      "2021-10-23 18:34:50\n"
     ]
    }
   ],
   "source": [
    "# 3. Write a Python program to display the current date and time. \n",
    "\n",
    "import datetime\n",
    "now = datetime.datetime.now()\n",
    "print (\"Current date and time : \")\n",
    "print (now.strftime(\"%Y-%m-%d %H:%M:%S\"))"
   ]
  },
  {
   "cell_type": "code",
   "execution_count": 19,
   "id": "39ea7d86",
   "metadata": {},
   "outputs": [
    {
     "name": "stdout",
     "output_type": "stream",
     "text": [
      "Please Enter The radius of the Circle : 25\n",
      "Area of the Circle is 1963.75\n"
     ]
    }
   ],
   "source": [
    "# 4. Write a Python program which accepts the radius of a circle from the user and compute the area. \n",
    "\n",
    "pi = 3.142;\n",
    "r = int(input(\"Please Enter The radius of the Circle : \"));\n",
    "area = pi * r**2;\n",
    "print(\"Area of the Circle is \" + str(area));"
   ]
  },
  {
   "cell_type": "code",
   "execution_count": 21,
   "id": "c35e411b",
   "metadata": {},
   "outputs": [
    {
     "name": "stdout",
     "output_type": "stream",
     "text": [
      "Please Enter Your First Name : Ahmed\n",
      "Please Enter Your Last Name : Younus\n",
      "Younus Ahmed\n"
     ]
    }
   ],
   "source": [
    "# 5. Write a Python program which accepts the user's first and last name and print them in reverse order with a space between them\n",
    "\n",
    "first = input(\"Please Enter Your First Name : \");\n",
    "last = input(\"Please Enter Your Last Name : \");\n",
    "print(last + \" \" + first);"
   ]
  },
  {
   "cell_type": "code",
   "execution_count": 23,
   "id": "56dec583",
   "metadata": {},
   "outputs": [
    {
     "name": "stdout",
     "output_type": "stream",
     "text": [
      "Please Enter Your First Number : 25\n",
      "Please Enter Your Second Number : 35\n",
      "Total is 60\n"
     ]
    }
   ],
   "source": [
    "# 6. Write a python program which takes two inputs from user and print them addition \n",
    "\n",
    "first = int(input(\"Please Enter Your First Number : \"));\n",
    "second = int(input(\"Please Enter Your Second Number : \"));\n",
    "add = first + second\n",
    "print(\"Total is \"+ str(add));\n"
   ]
  },
  {
   "cell_type": "code",
   "execution_count": 26,
   "id": "b8a3e712",
   "metadata": {},
   "outputs": [
    {
     "name": "stdout",
     "output_type": "stream",
     "text": [
      "Please Enter the Marks of English : 85\n",
      "Please Enter the Marks of Islamiat : 96\n",
      "Please Enter the Marks of Maths : 84\n",
      "Please Enter the Marks of Physics : 73\n",
      "Please Enter the Marks of Chemistry : 81\n",
      "English             85\n",
      "Islamiat            96\n",
      "Maths               84\n",
      "Physics             73\n",
      "Chemistry           81\n",
      "Total Marks         419\n",
      "Percentage          59.86%\n",
      "Grade               C\n"
     ]
    }
   ],
   "source": [
    "# 7. Write a program which takes 5 inputs from user for different subject’s marks, total it and generate mark sheet using grades ?\n",
    "\n",
    "\n",
    "Eng = int(input(\"Please Enter the Marks of English : \"));\n",
    "Isl = int(input(\"Please Enter the Marks of Islamiat : \"));\n",
    "Maths = int(input(\"Please Enter the Marks of Maths : \"));\n",
    "phys =  int(input(\"Please Enter the Marks of Physics : \"));\n",
    "chem = int(input(\"Please Enter the Marks of Chemistry : \"));\n",
    "total = Eng + Isl + Maths + phys + chem;\n",
    "perc = (total/700)*100;\n",
    "percf = \"{:.2f}\".format(perc)\n",
    "print(\"English             \"+ str(Eng));\n",
    "print(\"Islamiat            \"+str(Isl));\n",
    "print(\"Maths               \"+str(Maths));\n",
    "print(\"Physics             \"+str(phys));\n",
    "print(\"Chemistry           \"+str(chem));\n",
    "print(\"Total Marks         \"+str(total));\n",
    "print(\"Percentage          \"+str(percf)+\"%\");\n",
    "if perc >=80:\n",
    " print(\"Grade               A+\");\n",
    "elif perc >= 70:\n",
    " print(\"Grade               A\");\n",
    "elif perc >= 60:\n",
    " print(\"Grade               B\");\n",
    "elif perc >= 50:\n",
    " print(\"Grade               C\");\n",
    "elif perc >= 40:\n",
    " print(\"Grade               D\");\n",
    "else:\n",
    " print(\"Grade               FAIL\");"
   ]
  },
  {
   "cell_type": "code",
   "execution_count": 28,
   "id": "f3b185a7",
   "metadata": {},
   "outputs": [
    {
     "name": "stdout",
     "output_type": "stream",
     "text": [
      "Please Enter the Number : 7\n",
      "7 is ODD NUMBER\n"
     ]
    }
   ],
   "source": [
    "# 8. Write a program which take input from user and identify that the given number is even or odd\n",
    "\n",
    "a = int(input(\"Please Enter the Number : \"));\n",
    "b = a % 2;\n",
    "if b == 0:\n",
    "    print(str(a) + \" is EVEN NUMBER\");\n",
    "else:\n",
    "    print(str(a) + \" is ODD NUMBER\");\n"
   ]
  },
  {
   "cell_type": "code",
   "execution_count": 2,
   "id": "6b52108c",
   "metadata": {},
   "outputs": [
    {
     "name": "stdout",
     "output_type": "stream",
     "text": [
      "Total items in the list =  6\n"
     ]
    }
   ],
   "source": [
    "# 9. Write a program which print the length of the list?\n",
    "\n",
    "a = [\"a\", \"b\", \"c\", \"d\", \"e\", \"f\"];\n",
    "print(\"Total items in the list = \", len(a));"
   ]
  },
  {
   "cell_type": "code",
   "execution_count": 10,
   "id": "8058a1ce",
   "metadata": {},
   "outputs": [
    {
     "name": "stdout",
     "output_type": "stream",
     "text": [
      "The sum of the List is  63\n"
     ]
    }
   ],
   "source": [
    "# 10.Write a Python program to sum all the numeric items in a list?\n",
    "\n",
    "a =  [3,5,7,9,11,13,15];\n",
    "print(\"The sum of the List is \" , sum(a));"
   ]
  },
  {
   "cell_type": "code",
   "execution_count": 12,
   "id": "829f62a9",
   "metadata": {},
   "outputs": [
    {
     "name": "stdout",
     "output_type": "stream",
     "text": [
      "The largest Number of the List is  19\n"
     ]
    }
   ],
   "source": [
    "# 11.Write a Python program to get the largest number from a numeric list\n",
    "\n",
    "a =  [3,5,7,9,19,13,15];\n",
    "print(\"The largest Number of the List is \" , max(a));"
   ]
  },
  {
   "cell_type": "code",
   "execution_count": 13,
   "id": "6c17df0a",
   "metadata": {},
   "outputs": [
    {
     "name": "stdout",
     "output_type": "stream",
     "text": [
      "1\n",
      "1\n",
      "2\n",
      "3\n"
     ]
    }
   ],
   "source": [
    "'''12. Take a list, say for example this one:\n",
    "a = [1, 1, 2, 3, 5, 8, 13, 21, 34, 55, 89]\n",
    " Write a program that prints out all the elements of the list that are less than 5.''' \n",
    "\n",
    "\n",
    "a = [1, 1, 2, 3, 5, 8, 13, 21, 34, 55, 89]\n",
    "for i in a:\n",
    "    if i < 5:\n",
    "        print(i)"
   ]
  },
  {
   "cell_type": "code",
   "execution_count": null,
   "id": "faf83a5f",
   "metadata": {},
   "outputs": [],
   "source": []
  }
 ],
 "metadata": {
  "kernelspec": {
   "display_name": "Python 3",
   "language": "python",
   "name": "python3"
  },
  "language_info": {
   "codemirror_mode": {
    "name": "ipython",
    "version": 3
   },
   "file_extension": ".py",
   "mimetype": "text/x-python",
   "name": "python",
   "nbconvert_exporter": "python",
   "pygments_lexer": "ipython3",
   "version": "3.8.8"
  }
 },
 "nbformat": 4,
 "nbformat_minor": 5
}
